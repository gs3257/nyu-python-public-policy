{
  "nbformat": 4,
  "nbformat_minor": 0,
  "metadata": {
    "colab": {
      "name": "HW4.ipynb",
      "provenance": [],
      "collapsed_sections": [],
      "include_colab_link": true
    },
    "kernelspec": {
      "name": "python3",
      "display_name": "Python 3"
    }
  },
  "cells": [
    {
      "cell_type": "markdown",
      "metadata": {
        "id": "view-in-github",
        "colab_type": "text"
      },
      "source": [
        "<a href=\"https://colab.research.google.com/github/gs3257/nyu-python-public-policy/blob/master/HW4.ipynb\" target=\"_parent\"><img src=\"https://colab.research.google.com/assets/colab-badge.svg\" alt=\"Open In Colab\"/></a>"
      ]
    },
    {
      "cell_type": "code",
      "metadata": {
        "id": "KQDBOpIPyqoy",
        "colab_type": "code",
        "colab": {}
      },
      "source": [
        "import pandas as pd\n",
        "import matplotlib.pyplot as plt \n",
        "import numpy as np\n",
        "\n",
        "from google.colab import drive\n",
        "\n",
        "pd.set_option('display.max_columns', None)\n",
        "pd.set_option('display.max_rows', None)"
      ],
      "execution_count": 0,
      "outputs": []
    },
    {
      "cell_type": "code",
      "metadata": {
        "id": "xdAWqM2kytZw",
        "colab_type": "code",
        "colab": {
          "base_uri": "https://localhost:8080/",
          "height": 156
        },
        "outputId": "0b5a6f6d-5f11-4d1f-9546-79614f0b3ab7"
      },
      "source": [
        "drive.mount('/content/drive')\n",
        "df = pd.read_csv('/content/drive/My Drive/Data for Python/cleaned_311_data.csv', header='infer')"
      ],
      "execution_count": 7,
      "outputs": [
        {
          "output_type": "stream",
          "text": [
            "Go to this URL in a browser: https://accounts.google.com/o/oauth2/auth?client_id=947318989803-6bn6qk8qdgf4n4g3pfee6491hc0brc4i.apps.googleusercontent.com&redirect_uri=urn%3aietf%3awg%3aoauth%3a2.0%3aoob&response_type=code&scope=email%20https%3a%2f%2fwww.googleapis.com%2fauth%2fdocs.test%20https%3a%2f%2fwww.googleapis.com%2fauth%2fdrive%20https%3a%2f%2fwww.googleapis.com%2fauth%2fdrive.photos.readonly%20https%3a%2f%2fwww.googleapis.com%2fauth%2fpeopleapi.readonly\n",
            "\n",
            "Enter your authorization code:\n",
            "··········\n",
            "Mounted at /content/drive\n"
          ],
          "name": "stdout"
        },
        {
          "output_type": "stream",
          "text": [
            "/usr/local/lib/python3.6/dist-packages/IPython/core/interactiveshell.py:2718: DtypeWarning: Columns (9,18,21,32,35) have mixed types. Specify dtype option on import or set low_memory=False.\n",
            "  interactivity=interactivity, compiler=compiler, result=result)\n"
          ],
          "name": "stderr"
        }
      ]
    },
    {
      "cell_type": "code",
      "metadata": {
        "id": "k0Bn62BJywCr",
        "colab_type": "code",
        "colab": {}
      },
      "source": [
        "noise = df[df.complaint_type == 'Noise - Residential']\n",
        "heatwater = df[df.complaint_type == 'HEAT/HOT WATER']\n",
        "other = df[(df.complaint_type != 'HEAT/HOT WATER') & (df.complaint_type != 'Noise - Residential')]"
      ],
      "execution_count": 0,
      "outputs": []
    },
    {
      "cell_type": "code",
      "metadata": {
        "id": "i7DN_QqDzC1W",
        "colab_type": "code",
        "colab": {
          "base_uri": "https://localhost:8080/",
          "height": 85
        },
        "outputId": "55e0aac7-a4b3-455f-f85d-5e5fe876af59"
      },
      "source": [
        "count_noise = noise.groupby('community_board').size().reset_index(name='count_of_311_requests')\n",
        "print(len(count_noise))\n",
        "\n",
        "count_heatwater = heatwater.groupby('community_board').size().reset_index(name='count_of_311_requests')\n",
        "print(len(count_heatwater))\n",
        "\n",
        "count_other = other.groupby('community_board').size().reset_index(name='count_of_311_requests')\n",
        "print(len(count_other))\n",
        "\n",
        "count_all = df.groupby('community_board').size().reset_index(name='count_of_311_requests')\n",
        "print(len(count_all))"
      ],
      "execution_count": 9,
      "outputs": [
        {
          "output_type": "stream",
          "text": [
            "69\n",
            "66\n",
            "77\n",
            "77\n"
          ],
          "name": "stdout"
        }
      ]
    },
    {
      "cell_type": "code",
      "metadata": {
        "id": "o3ZklME7zGTD",
        "colab_type": "code",
        "colab": {}
      },
      "source": [
        "valid_borocds = ['101','102','103','104','105','106','107','108','109','110','111','112','201','202','203','204','205','206','207','208','209','210','211','212','301','302','303','304','305','306','307','308','309','310','311','312','313','314','315','316','317','318','401','402','403','404','405','406','407','408','409','410','411','412','413','414','501','502','503']"
      ],
      "execution_count": 0,
      "outputs": []
    },
    {
      "cell_type": "code",
      "metadata": {
        "id": "lcq8W-EhzI79",
        "colab_type": "code",
        "colab": {}
      },
      "source": [
        "def recode_borocd_counts(row):\n",
        "  if row.community_board[0] != 'U':\n",
        "    if 'MANHATTAN' in row.community_board:\n",
        "      return '1' + row.community_board[0:2]\n",
        "    elif 'BRONX' in row.community_board:\n",
        "      return '2' + row.community_board[0:2]\n",
        "    elif 'BROOKLYN' in row.community_board:\n",
        "      return '3' + row.community_board[0:2]\n",
        "    elif 'QUEENS' in row.community_board:\n",
        "      return '4' + row.community_board[0:2]\n",
        "    elif 'STATEN ISLAND' in row.community_board:\n",
        "      return '5' + row.community_board[0:2]\n",
        "  else:\n",
        "    return 'Invalid borocd'\n",
        "\n",
        "count_noise['borocd'] = count_noise.apply(recode_borocd_counts, axis=1)\n",
        "\n",
        "count_heatwater['borocd'] = count_heatwater.apply(recode_borocd_counts, axis=1)\n",
        "\n",
        "count_other['borocd'] = count_other.apply(recode_borocd_counts, axis=1)\n",
        "\n",
        "count_all['borocd'] = count_all.apply(recode_borocd_counts, axis=1)"
      ],
      "execution_count": 0,
      "outputs": []
    },
    {
      "cell_type": "code",
      "metadata": {
        "id": "q4-wKoEtzMpY",
        "colab_type": "code",
        "colab": {
          "base_uri": "https://localhost:8080/",
          "height": 85
        },
        "outputId": "6b989d43-9d5e-4fb0-f77f-639735666274"
      },
      "source": [
        "count_noise = count_noise[count_noise.borocd.isin(valid_borocds)]\n",
        "print(len(count_noise))\n",
        "\n",
        "count_heatwater = count_heatwater[count_heatwater.borocd.isin(valid_borocds)]\n",
        "print(len(count_heatwater))\n",
        "\n",
        "count_other = count_other[count_other.borocd.isin(valid_borocds)]\n",
        "print(len(count_other))\n",
        "\n",
        "count_all = count_all[count_all.borocd.isin(valid_borocds)]\n",
        "print(len(count_all))"
      ],
      "execution_count": 12,
      "outputs": [
        {
          "output_type": "stream",
          "text": [
            "59\n",
            "59\n",
            "59\n",
            "59\n"
          ],
          "name": "stdout"
        }
      ]
    },
    {
      "cell_type": "code",
      "metadata": {
        "id": "IbXikTlFzPVW",
        "colab_type": "code",
        "colab": {
          "base_uri": "https://localhost:8080/",
          "height": 425
        },
        "outputId": "9f1e507d-1b7e-4885-b758-94af1c63ce44"
      },
      "source": [
        "print(count_noise.head())\n",
        "print(count_heatwater.head())\n",
        "print(count_other.head())\n",
        "print(count_all.head())"
      ],
      "execution_count": 13,
      "outputs": [
        {
          "output_type": "stream",
          "text": [
            "    community_board  count_of_311_requests borocd\n",
            "1          01 BRONX                   3691    201\n",
            "2       01 BROOKLYN                   5844    301\n",
            "3      01 MANHATTAN                    722    101\n",
            "4         01 QUEENS                   4589    401\n",
            "5  01 STATEN ISLAND                   5052    501\n",
            "    community_board  count_of_311_requests borocd\n",
            "0          01 BRONX                   3346    201\n",
            "1       01 BROOKLYN                   2868    301\n",
            "2      01 MANHATTAN                    276    101\n",
            "3         01 QUEENS                   2466    401\n",
            "4  01 STATEN ISLAND                   1644    501\n",
            "    community_board  count_of_311_requests borocd\n",
            "1          01 BRONX                  20316    201\n",
            "2       01 BROOKLYN                  59389    301\n",
            "3      01 MANHATTAN                  20261    101\n",
            "4         01 QUEENS                  53370    401\n",
            "5  01 STATEN ISLAND                  58449    501\n",
            "    community_board  count_of_311_requests borocd\n",
            "1          01 BRONX                  27353    201\n",
            "2       01 BROOKLYN                  68101    301\n",
            "3      01 MANHATTAN                  21259    101\n",
            "4         01 QUEENS                  60425    401\n",
            "5  01 STATEN ISLAND                  65145    501\n"
          ],
          "name": "stdout"
        }
      ]
    },
    {
      "cell_type": "code",
      "metadata": {
        "id": "c9mR7OZ6zRi6",
        "colab_type": "code",
        "colab": {
          "base_uri": "https://localhost:8080/",
          "height": 34
        },
        "outputId": "d3fc87b4-88ea-4ac5-c0e1-b894cbbb269b"
      },
      "source": [
        "27353 == 20316 + 3346 + 3691"
      ],
      "execution_count": 14,
      "outputs": [
        {
          "output_type": "execute_result",
          "data": {
            "text/plain": [
              "True"
            ]
          },
          "metadata": {
            "tags": []
          },
          "execution_count": 14
        }
      ]
    },
    {
      "cell_type": "code",
      "metadata": {
        "id": "bOflpnkdzUnC",
        "colab_type": "code",
        "colab": {
          "base_uri": "https://localhost:8080/",
          "height": 413
        },
        "outputId": "2798c5ca-2e98-4c4f-b59e-e69fd764a0d2"
      },
      "source": [
        "position_on_x = np.arange(len(count_noise))\n",
        "\n",
        "count_other_array = np.array(count_other.sort_values('borocd').count_of_311_requests)\n",
        "count_noise_array = np.array(count_noise.sort_values('borocd').count_of_311_requests)\n",
        "count_heatwater_array = np.array(count_heatwater.sort_values('borocd').count_of_311_requests)\n",
        "\n",
        "plt.figure(figsize=(15, 6))\n",
        "plot1 = plt.bar(\n",
        "  position_on_x,\n",
        "  count_noise_array,\n",
        "  align='center',\n",
        "  color='blue',\n",
        "  label='Noise - Residential'\n",
        ")\n",
        "plot2 = plt.bar(\n",
        "  position_on_x,\n",
        "  count_heatwater_array,\n",
        "  bottom=count_noise_array, \n",
        "  align='center',\n",
        "  color='#1BC618',\n",
        "  label='HEAT/HOT WATER'\n",
        ")\n",
        "plot3 = plt.bar(\n",
        "  position_on_x,\n",
        "  count_other_array,\n",
        "  bottom=count_noise_array + count_heatwater_array, \n",
        "  align='center',\n",
        "  color='cyan',\n",
        "  label='Other'\n",
        ")\n",
        "plt.xticks(position_on_x, count_noise.borocd, rotation=90)\n",
        "plt.title('Count of 311 Requests per Community District')\n",
        "plt.xlabel('BoroCD')\n",
        "plt.ylabel('Count of Requests')\n",
        "plt.legend() \n",
        "\n",
        "plt.show()"
      ],
      "execution_count": 15,
      "outputs": [
        {
          "output_type": "display_data",
          "data": {
            "image/png": "[encoded data removed]",
            "text/plain": [
              "<Figure size 1080x432 with 1 Axes>"
            ]
          },
          "metadata": {
            "tags": []
          }
        }
      ]
    },
    {
      "cell_type": "code",
      "metadata": {
        "id": "sqTqXSGGzxcc",
        "colab_type": "code",
        "colab": {
          "base_uri": "https://localhost:8080/",
          "height": 224
        },
        "outputId": "b1700ae8-55dd-487b-ad0e-a2500455bc96"
      },
      "source": [
        "counts = pd.merge(left=count_all, right=count_noise, left_on='borocd', right_on='borocd')\n",
        "\n",
        "counts = pd.merge(left=counts, right=count_heatwater, left_on='borocd', right_on='borocd')\n",
        "\n",
        "counts = pd.merge(left=counts, right=count_other, left_on='borocd', right_on='borocd')\n",
        "\n",
        "counts.head()"
      ],
      "execution_count": 16,
      "outputs": [
        {
          "output_type": "execute_result",
          "data": {
            "text/html": [
              "<div>\n",
              "<style scoped>\n",
              "    .dataframe tbody tr th:only-of-type {\n",
              "        vertical-align: middle;\n",
              "    }\n",
              "\n",
              "    .dataframe tbody tr th {\n",
              "        vertical-align: top;\n",
              "    }\n",
              "\n",
              "    .dataframe thead th {\n",
              "        text-align: right;\n",
              "    }\n",
              "</style>\n",
              "<table border=\"1\" class=\"dataframe\">\n",
              "  <thead>\n",
              "    <tr style=\"text-align: right;\">\n",
              "      <th></th>\n",
              "      <th>community_board_x</th>\n",
              "      <th>count_of_311_requests_x</th>\n",
              "      <th>borocd</th>\n",
              "      <th>community_board_y</th>\n",
              "      <th>count_of_311_requests_y</th>\n",
              "      <th>community_board_x</th>\n",
              "      <th>count_of_311_requests_x</th>\n",
              "      <th>community_board_y</th>\n",
              "      <th>count_of_311_requests_y</th>\n",
              "    </tr>\n",
              "  </thead>\n",
              "  <tbody>\n",
              "    <tr>\n",
              "      <th>0</th>\n",
              "      <td>01 BRONX</td>\n",
              "      <td>27353</td>\n",
              "      <td>201</td>\n",
              "      <td>01 BRONX</td>\n",
              "      <td>3691</td>\n",
              "      <td>01 BRONX</td>\n",
              "      <td>3346</td>\n",
              "      <td>01 BRONX</td>\n",
              "      <td>20316</td>\n",
              "    </tr>\n",
              "    <tr>\n",
              "      <th>1</th>\n",
              "      <td>01 BROOKLYN</td>\n",
              "      <td>68101</td>\n",
              "      <td>301</td>\n",
              "      <td>01 BROOKLYN</td>\n",
              "      <td>5844</td>\n",
              "      <td>01 BROOKLYN</td>\n",
              "      <td>2868</td>\n",
              "      <td>01 BROOKLYN</td>\n",
              "      <td>59389</td>\n",
              "    </tr>\n",
              "    <tr>\n",
              "      <th>2</th>\n",
              "      <td>01 MANHATTAN</td>\n",
              "      <td>21259</td>\n",
              "      <td>101</td>\n",
              "      <td>01 MANHATTAN</td>\n",
              "      <td>722</td>\n",
              "      <td>01 MANHATTAN</td>\n",
              "      <td>276</td>\n",
              "      <td>01 MANHATTAN</td>\n",
              "      <td>20261</td>\n",
              "    </tr>\n",
              "    <tr>\n",
              "      <th>3</th>\n",
              "      <td>01 QUEENS</td>\n",
              "      <td>60425</td>\n",
              "      <td>401</td>\n",
              "      <td>01 QUEENS</td>\n",
              "      <td>4589</td>\n",
              "      <td>01 QUEENS</td>\n",
              "      <td>2466</td>\n",
              "      <td>01 QUEENS</td>\n",
              "      <td>53370</td>\n",
              "    </tr>\n",
              "    <tr>\n",
              "      <th>4</th>\n",
              "      <td>01 STATEN ISLAND</td>\n",
              "      <td>65145</td>\n",
              "      <td>501</td>\n",
              "      <td>01 STATEN ISLAND</td>\n",
              "      <td>5052</td>\n",
              "      <td>01 STATEN ISLAND</td>\n",
              "      <td>1644</td>\n",
              "      <td>01 STATEN ISLAND</td>\n",
              "      <td>58449</td>\n",
              "    </tr>\n",
              "  </tbody>\n",
              "</table>\n",
              "</div>"
            ],
            "text/plain": [
              "  community_board_x  count_of_311_requests_x borocd community_board_y  \\\n",
              "0          01 BRONX                    27353    201          01 BRONX   \n",
              "1       01 BROOKLYN                    68101    301       01 BROOKLYN   \n",
              "2      01 MANHATTAN                    21259    101      01 MANHATTAN   \n",
              "3         01 QUEENS                    60425    401         01 QUEENS   \n",
              "4  01 STATEN ISLAND                    65145    501  01 STATEN ISLAND   \n",
              "\n",
              "   count_of_311_requests_y community_board_x  count_of_311_requests_x  \\\n",
              "0                     3691          01 BRONX                     3346   \n",
              "1                     5844       01 BROOKLYN                     2868   \n",
              "2                      722      01 MANHATTAN                      276   \n",
              "3                     4589         01 QUEENS                     2466   \n",
              "4                     5052  01 STATEN ISLAND                     1644   \n",
              "\n",
              "  community_board_y  count_of_311_requests_y  \n",
              "0          01 BRONX                    20316  \n",
              "1       01 BROOKLYN                    59389  \n",
              "2      01 MANHATTAN                    20261  \n",
              "3         01 QUEENS                    53370  \n",
              "4  01 STATEN ISLAND                    58449  "
            ]
          },
          "metadata": {
            "tags": []
          },
          "execution_count": 16
        }
      ]
    },
    {
      "cell_type": "code",
      "metadata": {
        "id": "I2qQC58G0F7e",
        "colab_type": "code",
        "colab": {}
      },
      "source": [
        "counts.columns = ['community_board_x', 'count_all', 'borocd',\n",
        "       'community_board_y', 'count_noise', 'community_board_x',\n",
        "       'count_heatwater', 'community_board_y',\n",
        "       'count_other']"
      ],
      "execution_count": 0,
      "outputs": []
    },
    {
      "cell_type": "code",
      "metadata": {
        "id": "WWL_LlNg2VZF",
        "colab_type": "code",
        "colab": {
          "base_uri": "https://localhost:8080/",
          "height": 204
        },
        "outputId": "c0995e71-ac4c-4bcc-b2c7-15d01f2b26b7"
      },
      "source": [
        "counts.head()"
      ],
      "execution_count": 18,
      "outputs": [
        {
          "output_type": "execute_result",
          "data": {
            "text/html": [
              "<div>\n",
              "<style scoped>\n",
              "    .dataframe tbody tr th:only-of-type {\n",
              "        vertical-align: middle;\n",
              "    }\n",
              "\n",
              "    .dataframe tbody tr th {\n",
              "        vertical-align: top;\n",
              "    }\n",
              "\n",
              "    .dataframe thead th {\n",
              "        text-align: right;\n",
              "    }\n",
              "</style>\n",
              "<table border=\"1\" class=\"dataframe\">\n",
              "  <thead>\n",
              "    <tr style=\"text-align: right;\">\n",
              "      <th></th>\n",
              "      <th>community_board_x</th>\n",
              "      <th>count_all</th>\n",
              "      <th>borocd</th>\n",
              "      <th>community_board_y</th>\n",
              "      <th>count_noise</th>\n",
              "      <th>community_board_x</th>\n",
              "      <th>count_heatwater</th>\n",
              "      <th>community_board_y</th>\n",
              "      <th>count_other</th>\n",
              "    </tr>\n",
              "  </thead>\n",
              "  <tbody>\n",
              "    <tr>\n",
              "      <th>0</th>\n",
              "      <td>01 BRONX</td>\n",
              "      <td>27353</td>\n",
              "      <td>201</td>\n",
              "      <td>01 BRONX</td>\n",
              "      <td>3691</td>\n",
              "      <td>01 BRONX</td>\n",
              "      <td>3346</td>\n",
              "      <td>01 BRONX</td>\n",
              "      <td>20316</td>\n",
              "    </tr>\n",
              "    <tr>\n",
              "      <th>1</th>\n",
              "      <td>01 BROOKLYN</td>\n",
              "      <td>68101</td>\n",
              "      <td>301</td>\n",
              "      <td>01 BROOKLYN</td>\n",
              "      <td>5844</td>\n",
              "      <td>01 BROOKLYN</td>\n",
              "      <td>2868</td>\n",
              "      <td>01 BROOKLYN</td>\n",
              "      <td>59389</td>\n",
              "    </tr>\n",
              "    <tr>\n",
              "      <th>2</th>\n",
              "      <td>01 MANHATTAN</td>\n",
              "      <td>21259</td>\n",
              "      <td>101</td>\n",
              "      <td>01 MANHATTAN</td>\n",
              "      <td>722</td>\n",
              "      <td>01 MANHATTAN</td>\n",
              "      <td>276</td>\n",
              "      <td>01 MANHATTAN</td>\n",
              "      <td>20261</td>\n",
              "    </tr>\n",
              "    <tr>\n",
              "      <th>3</th>\n",
              "      <td>01 QUEENS</td>\n",
              "      <td>60425</td>\n",
              "      <td>401</td>\n",
              "      <td>01 QUEENS</td>\n",
              "      <td>4589</td>\n",
              "      <td>01 QUEENS</td>\n",
              "      <td>2466</td>\n",
              "      <td>01 QUEENS</td>\n",
              "      <td>53370</td>\n",
              "    </tr>\n",
              "    <tr>\n",
              "      <th>4</th>\n",
              "      <td>01 STATEN ISLAND</td>\n",
              "      <td>65145</td>\n",
              "      <td>501</td>\n",
              "      <td>01 STATEN ISLAND</td>\n",
              "      <td>5052</td>\n",
              "      <td>01 STATEN ISLAND</td>\n",
              "      <td>1644</td>\n",
              "      <td>01 STATEN ISLAND</td>\n",
              "      <td>58449</td>\n",
              "    </tr>\n",
              "  </tbody>\n",
              "</table>\n",
              "</div>"
            ],
            "text/plain": [
              "  community_board_x  count_all borocd community_board_y  count_noise  \\\n",
              "0          01 BRONX      27353    201          01 BRONX         3691   \n",
              "1       01 BROOKLYN      68101    301       01 BROOKLYN         5844   \n",
              "2      01 MANHATTAN      21259    101      01 MANHATTAN          722   \n",
              "3         01 QUEENS      60425    401         01 QUEENS         4589   \n",
              "4  01 STATEN ISLAND      65145    501  01 STATEN ISLAND         5052   \n",
              "\n",
              "  community_board_x  count_heatwater community_board_y  count_other  \n",
              "0          01 BRONX             3346          01 BRONX        20316  \n",
              "1       01 BROOKLYN             2868       01 BROOKLYN        59389  \n",
              "2      01 MANHATTAN              276      01 MANHATTAN        20261  \n",
              "3         01 QUEENS             2466         01 QUEENS        53370  \n",
              "4  01 STATEN ISLAND             1644  01 STATEN ISLAND        58449  "
            ]
          },
          "metadata": {
            "tags": []
          },
          "execution_count": 18
        }
      ]
    },
    {
      "cell_type": "code",
      "metadata": {
        "id": "pRwYdiXv2z9q",
        "colab_type": "code",
        "colab": {}
      },
      "source": [
        "counts = counts[['borocd', 'count_all', 'count_noise', 'count_heatwater', 'count_other']]"
      ],
      "execution_count": 0,
      "outputs": []
    },
    {
      "cell_type": "code",
      "metadata": {
        "id": "9dgWMIQJ2-06",
        "colab_type": "code",
        "colab": {
          "base_uri": "https://localhost:8080/",
          "height": 204
        },
        "outputId": "f750868c-3148-4f83-8fa7-b11542c3b025"
      },
      "source": [
        "counts.head()"
      ],
      "execution_count": 20,
      "outputs": [
        {
          "output_type": "execute_result",
          "data": {
            "text/html": [
              "<div>\n",
              "<style scoped>\n",
              "    .dataframe tbody tr th:only-of-type {\n",
              "        vertical-align: middle;\n",
              "    }\n",
              "\n",
              "    .dataframe tbody tr th {\n",
              "        vertical-align: top;\n",
              "    }\n",
              "\n",
              "    .dataframe thead th {\n",
              "        text-align: right;\n",
              "    }\n",
              "</style>\n",
              "<table border=\"1\" class=\"dataframe\">\n",
              "  <thead>\n",
              "    <tr style=\"text-align: right;\">\n",
              "      <th></th>\n",
              "      <th>borocd</th>\n",
              "      <th>count_all</th>\n",
              "      <th>count_noise</th>\n",
              "      <th>count_heatwater</th>\n",
              "      <th>count_other</th>\n",
              "    </tr>\n",
              "  </thead>\n",
              "  <tbody>\n",
              "    <tr>\n",
              "      <th>0</th>\n",
              "      <td>201</td>\n",
              "      <td>27353</td>\n",
              "      <td>3691</td>\n",
              "      <td>3346</td>\n",
              "      <td>20316</td>\n",
              "    </tr>\n",
              "    <tr>\n",
              "      <th>1</th>\n",
              "      <td>301</td>\n",
              "      <td>68101</td>\n",
              "      <td>5844</td>\n",
              "      <td>2868</td>\n",
              "      <td>59389</td>\n",
              "    </tr>\n",
              "    <tr>\n",
              "      <th>2</th>\n",
              "      <td>101</td>\n",
              "      <td>21259</td>\n",
              "      <td>722</td>\n",
              "      <td>276</td>\n",
              "      <td>20261</td>\n",
              "    </tr>\n",
              "    <tr>\n",
              "      <th>3</th>\n",
              "      <td>401</td>\n",
              "      <td>60425</td>\n",
              "      <td>4589</td>\n",
              "      <td>2466</td>\n",
              "      <td>53370</td>\n",
              "    </tr>\n",
              "    <tr>\n",
              "      <th>4</th>\n",
              "      <td>501</td>\n",
              "      <td>65145</td>\n",
              "      <td>5052</td>\n",
              "      <td>1644</td>\n",
              "      <td>58449</td>\n",
              "    </tr>\n",
              "  </tbody>\n",
              "</table>\n",
              "</div>"
            ],
            "text/plain": [
              "  borocd  count_all  count_noise  count_heatwater  count_other\n",
              "0    201      27353         3691             3346        20316\n",
              "1    301      68101         5844             2868        59389\n",
              "2    101      21259          722              276        20261\n",
              "3    401      60425         4589             2466        53370\n",
              "4    501      65145         5052             1644        58449"
            ]
          },
          "metadata": {
            "tags": []
          },
          "execution_count": 20
        }
      ]
    },
    {
      "cell_type": "code",
      "metadata": {
        "id": "xSP0VUq43G1X",
        "colab_type": "code",
        "colab": {}
      },
      "source": [
        "population = pd.read_csv('https://data.cityofnewyork.us/api/views/xi7c-iiu2/rows.csv?accessType=DOWNLOAD', header='infer')\n",
        "\n",
        "def recode_borocd_pop(row):\n",
        "  if row.Borough == 'Manhattan':\n",
        "    return str(100 + row['CD Number'])\n",
        "  elif row.Borough == 'Bronx':\n",
        "    return str(200 + row['CD Number'])\n",
        "  elif row.Borough == 'Brooklyn':\n",
        "    return str(300 + row['CD Number'])\n",
        "  elif row.Borough == 'Queens':\n",
        "    return str(400 + row['CD Number'])\n",
        "  elif row.Borough == 'Staten Island':\n",
        "    return str(500 + row['CD Number'])\n",
        "  else:\n",
        "    return 'Invalid borocd'\n",
        "\n",
        "population['borocd'] = population.apply(recode_borocd_pop, axis=1)"
      ],
      "execution_count": 0,
      "outputs": []
    },
    {
      "cell_type": "code",
      "metadata": {
        "id": "M2UXnQ0N3fBY",
        "colab_type": "code",
        "colab": {
          "base_uri": "https://localhost:8080/",
          "height": 404
        },
        "outputId": "a8275532-1361-48e1-fb11-4b6668338e59"
      },
      "source": [
        "x = population.sort_values('borocd')['2010 Population']/1000\n",
        "\n",
        "plt.figure(figsize=(15, 6))\n",
        "\n",
        "plt.scatter(\n",
        "  x, \n",
        "  counts.sort_values('borocd').count_other, \n",
        "  s=50, \n",
        "  c='#7bd0db', \n",
        "  edgecolors='black', \n",
        "  alpha=0.5, \n",
        "  label='Other Complaints') \n",
        "\n",
        "plt.scatter(\n",
        "  x, \n",
        "  counts.sort_values('borocd').count_noise, \n",
        "  s=50, \n",
        "  c='#5a5b9f', \n",
        "  edgecolors='black', \n",
        "  alpha=0.5, \n",
        "  label='Noise Complaints') \n",
        "\n",
        "plt.scatter(\n",
        "  x, \n",
        "  counts.sort_values('borocd').count_heatwater, \n",
        "  s=50, \n",
        "  c='#a83232', \n",
        "  edgecolors='black', \n",
        "  alpha=0.5, \n",
        "  label='Heat/Hot Water Complaints') \n",
        "\n",
        "plt.title('311 Requests vs. Community District Population')\n",
        "plt.xlabel('Population in Community District (Thousands)')\n",
        "plt.ylabel('# of 311 Requests in Community District')\n",
        "plt.legend()\n",
        "plt.show()"
      ],
      "execution_count": 28,
      "outputs": [
        {
          "output_type": "display_data",
          "data": {
            "image/png": "[encoded data removed]",
            "text/plain": [
              "<Figure size 1080x432 with 1 Axes>"
            ]
          },
          "metadata": {
            "tags": []
          }
        }
      ]
    },
    {
      "cell_type": "code",
      "metadata": {
        "id": "Yw4xBX4R4QtL",
        "colab_type": "code",
        "colab": {
          "base_uri": "https://localhost:8080/",
          "height": 404
        },
        "outputId": "4de1dfa8-81b6-4271-d9af-ea59d5d373db"
      },
      "source": [
        "plt.figure(figsize=(15, 6))\n",
        "plt.scatter(\n",
        "  x, \n",
        "  counts.sort_values('borocd').count_noise, \n",
        "  s=50, \n",
        "  c='#5a5b9f', \n",
        "  edgecolors='black', \n",
        "  alpha=0.5, \n",
        "  label='Noise Complaints') \n",
        "\n",
        "plt.scatter(\n",
        "  x, \n",
        "  counts.sort_values('borocd').count_heatwater, \n",
        "  s=50, \n",
        "  c='#a83232', \n",
        "  edgecolors='black', \n",
        "  alpha=0.5, \n",
        "  label='Heat/Hot Water Complaints') \n",
        "\n",
        "plt.title('311 Requests vs. Community District Population')\n",
        "plt.xlabel('Population in Community District (Thousands)')\n",
        "plt.ylabel('# of 311 Requests in Community District')\n",
        "plt.legend()\n",
        "plt.show()"
      ],
      "execution_count": 29,
      "outputs": [
        {
          "output_type": "display_data",
          "data": {
            "image/png": "[encoded data removed]",
            "text/plain": [
              "<Figure size 1080x432 with 1 Axes>"
            ]
          },
          "metadata": {
            "tags": []
          }
        }
      ]
    },
    {
      "cell_type": "code",
      "metadata": {
        "id": "mjpRIJKhn7t8",
        "colab_type": "code",
        "colab": {}
      },
      "source": [
        ""
      ],
      "execution_count": 0,
      "outputs": []
    },
    {
      "cell_type": "markdown",
      "metadata": {
        "id": "6-QxJodKr_7Y",
        "colab_type": "text"
      },
      "source": [
        "The relationship between population and noise complaints and the relationship between population and heat/water complaints seems to be fairly weak. The lack of relationship could be explained by factors such as old housing, aging heating systems, and the lack of regulations restricting noisy activities for building residents and businesses."
      ]
    }
  ]
}