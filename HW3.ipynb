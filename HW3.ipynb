{
  "nbformat": 4,
  "nbformat_minor": 0,
  "metadata": {
    "colab": {
      "name": "HW3.ipynb",
      "provenance": [],
      "collapsed_sections": [],
      "include_colab_link": true
    },
    "kernelspec": {
      "name": "python3",
      "display_name": "Python 3"
    }
  },
  "cells": [
    {
      "cell_type": "markdown",
      "metadata": {
        "id": "view-in-github",
        "colab_type": "text"
      },
      "source": [
        "<a href=\"https://colab.research.google.com/github/gs3257/nyu-python-public-policy/blob/master/HW3.ipynb\" target=\"_parent\"><img src=\"https://colab.research.google.com/assets/colab-badge.svg\" alt=\"Open In Colab\"/></a>"
      ]
    },
    {
      "cell_type": "code",
      "metadata": {
        "id": "eE-ZHHpRU7AT",
        "colab_type": "code",
        "colab": {}
      },
      "source": [
        "import pandas as pd\n",
        "from google.colab import drive"
      ],
      "execution_count": 0,
      "outputs": []
    },
    {
      "cell_type": "code",
      "metadata": {
        "id": "0kpFuUBNU-dw",
        "colab_type": "code",
        "colab": {}
      },
      "source": [
        "pd.set_option('display.max_columns', None)\n",
        "pd.set_option('display.max_rows', None)"
      ],
      "execution_count": 0,
      "outputs": []
    },
    {
      "cell_type": "code",
      "metadata": {
        "id": "SS13feAiVA-c",
        "colab_type": "code",
        "colab": {
          "base_uri": "https://localhost:8080/",
          "height": 122
        },
        "outputId": "ae5f269f-cf67-441e-cfc8-5598330961f6"
      },
      "source": [
        "drive.mount('/content/drive')"
      ],
      "execution_count": 3,
      "outputs": [
        {
          "output_type": "stream",
          "text": [
            "Go to this URL in a browser: https://accounts.google.com/o/oauth2/auth?client_id=947318989803-6bn6qk8qdgf4n4g3pfee6491hc0brc4i.apps.googleusercontent.com&redirect_uri=urn%3aietf%3awg%3aoauth%3a2.0%3aoob&response_type=code&scope=email%20https%3a%2f%2fwww.googleapis.com%2fauth%2fdocs.test%20https%3a%2f%2fwww.googleapis.com%2fauth%2fdrive%20https%3a%2f%2fwww.googleapis.com%2fauth%2fdrive.photos.readonly%20https%3a%2f%2fwww.googleapis.com%2fauth%2fpeopleapi.readonly\n",
            "\n",
            "Enter your authorization code:\n",
            "··········\n",
            "Mounted at /content/drive\n"
          ],
          "name": "stdout"
        }
      ]
    },
    {
      "cell_type": "code",
      "metadata": {
        "id": "Yo_KXUFNVDkS",
        "colab_type": "code",
        "colab": {}
      },
      "source": [
        "df = pd.read_csv('/content/drive/My Drive/Data for Python/cleaned_311_data_hw3.csv', header='infer')"
      ],
      "execution_count": 0,
      "outputs": []
    },
    {
      "cell_type": "code",
      "metadata": {
        "id": "BAhBhpRzVK_u",
        "colab_type": "code",
        "colab": {
          "base_uri": "https://localhost:8080/",
          "height": 238
        },
        "outputId": "cb66e1c9-77c7-459d-c337-4c4846e8f06e"
      },
      "source": [
        "df.columns"
      ],
      "execution_count": 5,
      "outputs": [
        {
          "output_type": "execute_result",
          "data": {
            "text/plain": [
              "Index(['Unnamed: 0', 'Unnamed: 0.1', 'unique_key', 'created_date',\n",
              "       'closed_date', 'agency', 'agency_name', 'complaint_type', 'descriptor',\n",
              "       'location_type', 'incident_zip', 'incident_address', 'street_name',\n",
              "       'cross_street_1', 'cross_street_2', 'intersection_street_1',\n",
              "       'intersection_street_2', 'address_type', 'city', 'landmark',\n",
              "       'facility_type', 'status', 'due_date', 'resolution_description',\n",
              "       'resolution_action_updated_date', 'community_board', 'bbl', 'borough',\n",
              "       'x_coordinate_(state_plane)', 'y_coordinate_(state_plane)',\n",
              "       'open_data_channel_type', 'park_facility_name', 'park_borough',\n",
              "       'vehicle_type', 'taxi_company_borough', 'taxi_pick_up_location',\n",
              "       'bridge_highway_name', 'bridge_highway_direction', 'road_ramp',\n",
              "       'bridge_highway_segment', 'latitude', 'longitude', 'location'],\n",
              "      dtype='object')"
            ]
          },
          "metadata": {
            "tags": []
          },
          "execution_count": 5
        }
      ]
    },
    {
      "cell_type": "code",
      "metadata": {
        "id": "Z5mfys3_VNIS",
        "colab_type": "code",
        "colab": {}
      },
      "source": [
        "for column_name in df.columns:\n",
        "  df.rename(columns={column_name:column_name.replace(' ', '_').lower()}, inplace=True)"
      ],
      "execution_count": 0,
      "outputs": []
    },
    {
      "cell_type": "code",
      "metadata": {
        "id": "d0XgiysNVPGx",
        "colab_type": "code",
        "colab": {
          "base_uri": "https://localhost:8080/",
          "height": 238
        },
        "outputId": "f8fa9de4-d7bf-4830-e726-cead6e923421"
      },
      "source": [
        "df.columns"
      ],
      "execution_count": 7,
      "outputs": [
        {
          "output_type": "execute_result",
          "data": {
            "text/plain": [
              "Index(['unnamed:_0', 'unnamed:_0.1', 'unique_key', 'created_date',\n",
              "       'closed_date', 'agency', 'agency_name', 'complaint_type', 'descriptor',\n",
              "       'location_type', 'incident_zip', 'incident_address', 'street_name',\n",
              "       'cross_street_1', 'cross_street_2', 'intersection_street_1',\n",
              "       'intersection_street_2', 'address_type', 'city', 'landmark',\n",
              "       'facility_type', 'status', 'due_date', 'resolution_description',\n",
              "       'resolution_action_updated_date', 'community_board', 'bbl', 'borough',\n",
              "       'x_coordinate_(state_plane)', 'y_coordinate_(state_plane)',\n",
              "       'open_data_channel_type', 'park_facility_name', 'park_borough',\n",
              "       'vehicle_type', 'taxi_company_borough', 'taxi_pick_up_location',\n",
              "       'bridge_highway_name', 'bridge_highway_direction', 'road_ramp',\n",
              "       'bridge_highway_segment', 'latitude', 'longitude', 'location'],\n",
              "      dtype='object')"
            ]
          },
          "metadata": {
            "tags": []
          },
          "execution_count": 7
        }
      ]
    },
    {
      "cell_type": "code",
      "metadata": {
        "id": "qXID5aaPVRlE",
        "colab_type": "code",
        "colab": {}
      },
      "source": [
        "def recode_graffiti_counts(row):\n",
        "  if 'Graffiti' in row.complaint_type:\n",
        "    return True \n",
        "  elif 'Graffiti' in row.descriptor and pd.notnull(row.descriptor):\n",
        "    return True\n",
        "  else:\n",
        "    return False"
      ],
      "execution_count": 0,
      "outputs": []
    },
    {
      "cell_type": "code",
      "metadata": {
        "id": "IIYypNQlVTyO",
        "colab_type": "code",
        "colab": {}
      },
      "source": [
        "df['graffiti_flag'] = df.apply(recode_graffiti_counts, axis=1)"
      ],
      "execution_count": 0,
      "outputs": []
    },
    {
      "cell_type": "code",
      "metadata": {
        "id": "yEQBXaRVVZxm",
        "colab_type": "code",
        "colab": {
          "base_uri": "https://localhost:8080/",
          "height": 394
        },
        "outputId": "faa15484-6db9-4b88-d13e-c1ee103408c5"
      },
      "source": [
        "df.head ()"
      ],
      "execution_count": 14,
      "outputs": [
        {
          "output_type": "execute_result",
          "data": {
            "text/html": [
              "<div>\n",
              "<style scoped>\n",
              "    .dataframe tbody tr th:only-of-type {\n",
              "        vertical-align: middle;\n",
              "    }\n",
              "\n",
              "    .dataframe tbody tr th {\n",
              "        vertical-align: top;\n",
              "    }\n",
              "\n",
              "    .dataframe thead th {\n",
              "        text-align: right;\n",
              "    }\n",
              "</style>\n",
              "<table border=\"1\" class=\"dataframe\">\n",
              "  <thead>\n",
              "    <tr style=\"text-align: right;\">\n",
              "      <th></th>\n",
              "      <th>unnamed:_0</th>\n",
              "      <th>unnamed:_0.1</th>\n",
              "      <th>unique_key</th>\n",
              "      <th>created_date</th>\n",
              "      <th>closed_date</th>\n",
              "      <th>agency</th>\n",
              "      <th>agency_name</th>\n",
              "      <th>complaint_type</th>\n",
              "      <th>descriptor</th>\n",
              "      <th>location_type</th>\n",
              "      <th>incident_zip</th>\n",
              "      <th>incident_address</th>\n",
              "      <th>street_name</th>\n",
              "      <th>cross_street_1</th>\n",
              "      <th>cross_street_2</th>\n",
              "      <th>intersection_street_1</th>\n",
              "      <th>intersection_street_2</th>\n",
              "      <th>address_type</th>\n",
              "      <th>city</th>\n",
              "      <th>landmark</th>\n",
              "      <th>facility_type</th>\n",
              "      <th>status</th>\n",
              "      <th>due_date</th>\n",
              "      <th>resolution_description</th>\n",
              "      <th>resolution_action_updated_date</th>\n",
              "      <th>community_board</th>\n",
              "      <th>bbl</th>\n",
              "      <th>borough</th>\n",
              "      <th>x_coordinate_(state_plane)</th>\n",
              "      <th>y_coordinate_(state_plane)</th>\n",
              "      <th>open_data_channel_type</th>\n",
              "      <th>park_facility_name</th>\n",
              "      <th>park_borough</th>\n",
              "      <th>vehicle_type</th>\n",
              "      <th>taxi_company_borough</th>\n",
              "      <th>taxi_pick_up_location</th>\n",
              "      <th>bridge_highway_name</th>\n",
              "      <th>bridge_highway_direction</th>\n",
              "      <th>road_ramp</th>\n",
              "      <th>bridge_highway_segment</th>\n",
              "      <th>latitude</th>\n",
              "      <th>longitude</th>\n",
              "      <th>location</th>\n",
              "      <th>graffiti_flag</th>\n",
              "    </tr>\n",
              "  </thead>\n",
              "  <tbody>\n",
              "    <tr>\n",
              "      <th>0</th>\n",
              "      <td>238</td>\n",
              "      <td>238</td>\n",
              "      <td>39887282</td>\n",
              "      <td>08/01/2018 01:42:01 AM</td>\n",
              "      <td>08/14/2018 02:42:12 PM</td>\n",
              "      <td>DPR</td>\n",
              "      <td>Department of Parks and Recreation</td>\n",
              "      <td>Maintenance or Facility</td>\n",
              "      <td>Structure - Outdoors</td>\n",
              "      <td>Park</td>\n",
              "      <td>10003.0</td>\n",
              "      <td>NaN</td>\n",
              "      <td>NaN</td>\n",
              "      <td>NaN</td>\n",
              "      <td>NaN</td>\n",
              "      <td>NaN</td>\n",
              "      <td>NaN</td>\n",
              "      <td>NaN</td>\n",
              "      <td>NEW YORK</td>\n",
              "      <td>NaN</td>\n",
              "      <td>NaN</td>\n",
              "      <td>Closed</td>\n",
              "      <td>08/15/2018 01:42:01 AM</td>\n",
              "      <td>The Department of Parks and Recreation has com...</td>\n",
              "      <td>08/14/2018 02:42:12 PM</td>\n",
              "      <td>0 Unspecified</td>\n",
              "      <td>NaN</td>\n",
              "      <td>Unspecified</td>\n",
              "      <td>NaN</td>\n",
              "      <td>NaN</td>\n",
              "      <td>PHONE</td>\n",
              "      <td>First Park</td>\n",
              "      <td>Unspecified</td>\n",
              "      <td>NaN</td>\n",
              "      <td>NaN</td>\n",
              "      <td>NaN</td>\n",
              "      <td>NaN</td>\n",
              "      <td>NaN</td>\n",
              "      <td>NaN</td>\n",
              "      <td>NaN</td>\n",
              "      <td>NaN</td>\n",
              "      <td>NaN</td>\n",
              "      <td>NaN</td>\n",
              "      <td>False</td>\n",
              "    </tr>\n",
              "    <tr>\n",
              "      <th>1</th>\n",
              "      <td>353</td>\n",
              "      <td>353</td>\n",
              "      <td>39889407</td>\n",
              "      <td>08/01/2018 03:20:07 AM</td>\n",
              "      <td>08/23/2018 11:15:00 AM</td>\n",
              "      <td>DPR</td>\n",
              "      <td>Department of Parks and Recreation</td>\n",
              "      <td>Maintenance or Facility</td>\n",
              "      <td>Garbage or Litter</td>\n",
              "      <td>Park</td>\n",
              "      <td>11434.0</td>\n",
              "      <td>NaN</td>\n",
              "      <td>NaN</td>\n",
              "      <td>NaN</td>\n",
              "      <td>NaN</td>\n",
              "      <td>BAISLEY BOULEVARD</td>\n",
              "      <td>MERRICK BOULEVARD</td>\n",
              "      <td>INTERSECTION</td>\n",
              "      <td>JAMAICA</td>\n",
              "      <td>NaN</td>\n",
              "      <td>NaN</td>\n",
              "      <td>Closed</td>\n",
              "      <td>08/04/2018 03:20:07 AM</td>\n",
              "      <td>The Service Request submitted did not have suf...</td>\n",
              "      <td>08/23/2018 11:15:00 AM</td>\n",
              "      <td>12 QUEENS</td>\n",
              "      <td>NaN</td>\n",
              "      <td>QUEENS</td>\n",
              "      <td>1048111.0</td>\n",
              "      <td>188479.0</td>\n",
              "      <td>PHONE</td>\n",
              "      <td>Unspecified</td>\n",
              "      <td>QUEENS</td>\n",
              "      <td>NaN</td>\n",
              "      <td>NaN</td>\n",
              "      <td>NaN</td>\n",
              "      <td>NaN</td>\n",
              "      <td>NaN</td>\n",
              "      <td>NaN</td>\n",
              "      <td>NaN</td>\n",
              "      <td>40.683778</td>\n",
              "      <td>-73.769744</td>\n",
              "      <td>(40.68377771085733, -73.76974413109498)</td>\n",
              "      <td>False</td>\n",
              "    </tr>\n",
              "    <tr>\n",
              "      <th>2</th>\n",
              "      <td>403</td>\n",
              "      <td>403</td>\n",
              "      <td>39893067</td>\n",
              "      <td>08/01/2018 04:19:15 AM</td>\n",
              "      <td>08/02/2018 08:19:55 AM</td>\n",
              "      <td>DPR</td>\n",
              "      <td>Department of Parks and Recreation</td>\n",
              "      <td>Maintenance or Facility</td>\n",
              "      <td>Hours of Operation</td>\n",
              "      <td>Park</td>\n",
              "      <td>11206.0</td>\n",
              "      <td>NaN</td>\n",
              "      <td>NaN</td>\n",
              "      <td>NaN</td>\n",
              "      <td>NaN</td>\n",
              "      <td>NaN</td>\n",
              "      <td>NaN</td>\n",
              "      <td>NaN</td>\n",
              "      <td>BROOKLYN</td>\n",
              "      <td>NaN</td>\n",
              "      <td>NaN</td>\n",
              "      <td>Closed</td>\n",
              "      <td>08/04/2018 04:19:15 AM</td>\n",
              "      <td>The Department of Parks and Recreation has com...</td>\n",
              "      <td>08/02/2018 08:19:55 AM</td>\n",
              "      <td>01 BROOKLYN</td>\n",
              "      <td>NaN</td>\n",
              "      <td>BROOKLYN</td>\n",
              "      <td>NaN</td>\n",
              "      <td>NaN</td>\n",
              "      <td>MOBILE</td>\n",
              "      <td>Ten Eyck Plaza</td>\n",
              "      <td>BROOKLYN</td>\n",
              "      <td>NaN</td>\n",
              "      <td>NaN</td>\n",
              "      <td>NaN</td>\n",
              "      <td>NaN</td>\n",
              "      <td>NaN</td>\n",
              "      <td>NaN</td>\n",
              "      <td>NaN</td>\n",
              "      <td>NaN</td>\n",
              "      <td>NaN</td>\n",
              "      <td>NaN</td>\n",
              "      <td>False</td>\n",
              "    </tr>\n",
              "    <tr>\n",
              "      <th>3</th>\n",
              "      <td>655</td>\n",
              "      <td>655</td>\n",
              "      <td>39890578</td>\n",
              "      <td>08/01/2018 07:32:33 AM</td>\n",
              "      <td>08/16/2018 10:28:38 AM</td>\n",
              "      <td>DPR</td>\n",
              "      <td>Department of Parks and Recreation</td>\n",
              "      <td>Maintenance or Facility</td>\n",
              "      <td>Garbage or Litter</td>\n",
              "      <td>Park</td>\n",
              "      <td>11691.0</td>\n",
              "      <td>NaN</td>\n",
              "      <td>NaN</td>\n",
              "      <td>NaN</td>\n",
              "      <td>NaN</td>\n",
              "      <td>NaN</td>\n",
              "      <td>NaN</td>\n",
              "      <td>NaN</td>\n",
              "      <td>FAR ROCKAWAY</td>\n",
              "      <td>NaN</td>\n",
              "      <td>NaN</td>\n",
              "      <td>Closed</td>\n",
              "      <td>08/04/2018 07:32:33 AM</td>\n",
              "      <td>The Department of Parks and Recreation has com...</td>\n",
              "      <td>08/16/2018 10:28:38 AM</td>\n",
              "      <td>14 QUEENS</td>\n",
              "      <td>NaN</td>\n",
              "      <td>QUEENS</td>\n",
              "      <td>NaN</td>\n",
              "      <td>NaN</td>\n",
              "      <td>PHONE</td>\n",
              "      <td>Westbourne Playground</td>\n",
              "      <td>QUEENS</td>\n",
              "      <td>NaN</td>\n",
              "      <td>NaN</td>\n",
              "      <td>NaN</td>\n",
              "      <td>NaN</td>\n",
              "      <td>NaN</td>\n",
              "      <td>NaN</td>\n",
              "      <td>NaN</td>\n",
              "      <td>NaN</td>\n",
              "      <td>NaN</td>\n",
              "      <td>NaN</td>\n",
              "      <td>False</td>\n",
              "    </tr>\n",
              "    <tr>\n",
              "      <th>4</th>\n",
              "      <td>658</td>\n",
              "      <td>658</td>\n",
              "      <td>39896325</td>\n",
              "      <td>08/01/2018 07:33:12 AM</td>\n",
              "      <td>09/04/2018 05:38:02 PM</td>\n",
              "      <td>DPR</td>\n",
              "      <td>Department of Parks and Recreation</td>\n",
              "      <td>Maintenance or Facility</td>\n",
              "      <td>Garbage or Litter</td>\n",
              "      <td>Park</td>\n",
              "      <td>11355.0</td>\n",
              "      <td>NaN</td>\n",
              "      <td>NaN</td>\n",
              "      <td>NaN</td>\n",
              "      <td>NaN</td>\n",
              "      <td>NaN</td>\n",
              "      <td>NaN</td>\n",
              "      <td>NaN</td>\n",
              "      <td>FLUSHING</td>\n",
              "      <td>NaN</td>\n",
              "      <td>NaN</td>\n",
              "      <td>Closed</td>\n",
              "      <td>08/04/2018 07:33:12 AM</td>\n",
              "      <td>The condition was inspected and it was determi...</td>\n",
              "      <td>09/04/2018 05:38:02 PM</td>\n",
              "      <td>07 QUEENS</td>\n",
              "      <td>NaN</td>\n",
              "      <td>QUEENS</td>\n",
              "      <td>NaN</td>\n",
              "      <td>NaN</td>\n",
              "      <td>MOBILE</td>\n",
              "      <td>Maple Playground</td>\n",
              "      <td>QUEENS</td>\n",
              "      <td>NaN</td>\n",
              "      <td>NaN</td>\n",
              "      <td>NaN</td>\n",
              "      <td>NaN</td>\n",
              "      <td>NaN</td>\n",
              "      <td>NaN</td>\n",
              "      <td>NaN</td>\n",
              "      <td>NaN</td>\n",
              "      <td>NaN</td>\n",
              "      <td>NaN</td>\n",
              "      <td>False</td>\n",
              "    </tr>\n",
              "  </tbody>\n",
              "</table>\n",
              "</div>"
            ],
            "text/plain": [
              "   unnamed:_0  unnamed:_0.1  unique_key            created_date  \\\n",
              "0         238           238    39887282  08/01/2018 01:42:01 AM   \n",
              "1         353           353    39889407  08/01/2018 03:20:07 AM   \n",
              "2         403           403    39893067  08/01/2018 04:19:15 AM   \n",
              "3         655           655    39890578  08/01/2018 07:32:33 AM   \n",
              "4         658           658    39896325  08/01/2018 07:33:12 AM   \n",
              "\n",
              "              closed_date agency                         agency_name  \\\n",
              "0  08/14/2018 02:42:12 PM    DPR  Department of Parks and Recreation   \n",
              "1  08/23/2018 11:15:00 AM    DPR  Department of Parks and Recreation   \n",
              "2  08/02/2018 08:19:55 AM    DPR  Department of Parks and Recreation   \n",
              "3  08/16/2018 10:28:38 AM    DPR  Department of Parks and Recreation   \n",
              "4  09/04/2018 05:38:02 PM    DPR  Department of Parks and Recreation   \n",
              "\n",
              "            complaint_type            descriptor location_type  incident_zip  \\\n",
              "0  Maintenance or Facility  Structure - Outdoors          Park       10003.0   \n",
              "1  Maintenance or Facility     Garbage or Litter          Park       11434.0   \n",
              "2  Maintenance or Facility    Hours of Operation          Park       11206.0   \n",
              "3  Maintenance or Facility     Garbage or Litter          Park       11691.0   \n",
              "4  Maintenance or Facility     Garbage or Litter          Park       11355.0   \n",
              "\n",
              "  incident_address street_name cross_street_1 cross_street_2  \\\n",
              "0              NaN         NaN            NaN            NaN   \n",
              "1              NaN         NaN            NaN            NaN   \n",
              "2              NaN         NaN            NaN            NaN   \n",
              "3              NaN         NaN            NaN            NaN   \n",
              "4              NaN         NaN            NaN            NaN   \n",
              "\n",
              "  intersection_street_1 intersection_street_2  address_type          city  \\\n",
              "0                   NaN                   NaN           NaN      NEW YORK   \n",
              "1     BAISLEY BOULEVARD     MERRICK BOULEVARD  INTERSECTION       JAMAICA   \n",
              "2                   NaN                   NaN           NaN      BROOKLYN   \n",
              "3                   NaN                   NaN           NaN  FAR ROCKAWAY   \n",
              "4                   NaN                   NaN           NaN      FLUSHING   \n",
              "\n",
              "  landmark facility_type  status                due_date  \\\n",
              "0      NaN           NaN  Closed  08/15/2018 01:42:01 AM   \n",
              "1      NaN           NaN  Closed  08/04/2018 03:20:07 AM   \n",
              "2      NaN           NaN  Closed  08/04/2018 04:19:15 AM   \n",
              "3      NaN           NaN  Closed  08/04/2018 07:32:33 AM   \n",
              "4      NaN           NaN  Closed  08/04/2018 07:33:12 AM   \n",
              "\n",
              "                              resolution_description  \\\n",
              "0  The Department of Parks and Recreation has com...   \n",
              "1  The Service Request submitted did not have suf...   \n",
              "2  The Department of Parks and Recreation has com...   \n",
              "3  The Department of Parks and Recreation has com...   \n",
              "4  The condition was inspected and it was determi...   \n",
              "\n",
              "  resolution_action_updated_date community_board  bbl      borough  \\\n",
              "0         08/14/2018 02:42:12 PM   0 Unspecified  NaN  Unspecified   \n",
              "1         08/23/2018 11:15:00 AM       12 QUEENS  NaN       QUEENS   \n",
              "2         08/02/2018 08:19:55 AM     01 BROOKLYN  NaN     BROOKLYN   \n",
              "3         08/16/2018 10:28:38 AM       14 QUEENS  NaN       QUEENS   \n",
              "4         09/04/2018 05:38:02 PM       07 QUEENS  NaN       QUEENS   \n",
              "\n",
              "   x_coordinate_(state_plane)  y_coordinate_(state_plane)  \\\n",
              "0                         NaN                         NaN   \n",
              "1                   1048111.0                    188479.0   \n",
              "2                         NaN                         NaN   \n",
              "3                         NaN                         NaN   \n",
              "4                         NaN                         NaN   \n",
              "\n",
              "  open_data_channel_type     park_facility_name park_borough  vehicle_type  \\\n",
              "0                  PHONE             First Park  Unspecified           NaN   \n",
              "1                  PHONE            Unspecified       QUEENS           NaN   \n",
              "2                 MOBILE         Ten Eyck Plaza     BROOKLYN           NaN   \n",
              "3                  PHONE  Westbourne Playground       QUEENS           NaN   \n",
              "4                 MOBILE       Maple Playground       QUEENS           NaN   \n",
              "\n",
              "   taxi_company_borough  taxi_pick_up_location bridge_highway_name  \\\n",
              "0                   NaN                    NaN                 NaN   \n",
              "1                   NaN                    NaN                 NaN   \n",
              "2                   NaN                    NaN                 NaN   \n",
              "3                   NaN                    NaN                 NaN   \n",
              "4                   NaN                    NaN                 NaN   \n",
              "\n",
              "  bridge_highway_direction road_ramp bridge_highway_segment   latitude  \\\n",
              "0                      NaN       NaN                    NaN        NaN   \n",
              "1                      NaN       NaN                    NaN  40.683778   \n",
              "2                      NaN       NaN                    NaN        NaN   \n",
              "3                      NaN       NaN                    NaN        NaN   \n",
              "4                      NaN       NaN                    NaN        NaN   \n",
              "\n",
              "   longitude                                 location  graffiti_flag  \n",
              "0        NaN                                      NaN          False  \n",
              "1 -73.769744  (40.68377771085733, -73.76974413109498)          False  \n",
              "2        NaN                                      NaN          False  \n",
              "3        NaN                                      NaN          False  \n",
              "4        NaN                                      NaN          False  "
            ]
          },
          "metadata": {
            "tags": []
          },
          "execution_count": 14
        }
      ]
    },
    {
      "cell_type": "code",
      "metadata": {
        "id": "zMjnVoJHkTOC",
        "colab_type": "code",
        "colab": {
          "base_uri": "https://localhost:8080/",
          "height": 85
        },
        "outputId": "37749fd1-e5e9-4bd4-8a5d-265823294411"
      },
      "source": [
        "df.groupby('graffiti_flag').size()"
      ],
      "execution_count": 15,
      "outputs": [
        {
          "output_type": "execute_result",
          "data": {
            "text/plain": [
              "graffiti_flag\n",
              "False    38206\n",
              "True     26371\n",
              "dtype: int64"
            ]
          },
          "metadata": {
            "tags": []
          },
          "execution_count": 15
        }
      ]
    },
    {
      "cell_type": "code",
      "metadata": {
        "id": "wyx7sAYekaP_",
        "colab_type": "code",
        "colab": {
          "base_uri": "https://localhost:8080/",
          "height": 204
        },
        "outputId": "983836a7-88d8-44e5-83af-d32ef429d1ed"
      },
      "source": [
        "df.groupby('complaint_type').size()"
      ],
      "execution_count": 16,
      "outputs": [
        {
          "output_type": "execute_result",
          "data": {
            "text/plain": [
              "complaint_type\n",
              "Bridge Condition                392\n",
              "Broken Parking Meter          14210\n",
              "Bus Stop Shelter Complaint      990\n",
              "Graffiti                      24986\n",
              "Highway Condition              3543\n",
              "Maintenance or Facility       17665\n",
              "Public Payphone Complaint       378\n",
              "Public Toilet                    41\n",
              "School Maintenance             2372\n",
              "dtype: int64"
            ]
          },
          "metadata": {
            "tags": []
          },
          "execution_count": 16
        }
      ]
    },
    {
      "cell_type": "code",
      "metadata": {
        "id": "w0nwuOjwV6KN",
        "colab_type": "code",
        "colab": {}
      },
      "source": [
        "df_graffiti = (df[df.graffiti_flag])"
      ],
      "execution_count": 0,
      "outputs": []
    },
    {
      "cell_type": "code",
      "metadata": {
        "id": "vCZa928CWGRN",
        "colab_type": "code",
        "colab": {
          "base_uri": "https://localhost:8080/",
          "height": 306
        },
        "outputId": "b58019ff-fd17-48ba-d815-5040b3b371bb"
      },
      "source": [
        "df_graffiti.groupby('community_board').size().nlargest(15)"
      ],
      "execution_count": 20,
      "outputs": [
        {
          "output_type": "execute_result",
          "data": {
            "text/plain": [
              "community_board\n",
              "01 BROOKLYN             1797\n",
              "03 MANHATTAN            1593\n",
              "04 BROOKLYN             1429\n",
              "03 BROOKLYN             1252\n",
              "05 BROOKLYN              962\n",
              "07 BROOKLYN              779\n",
              "Unspecified BRONX        615\n",
              "02 MANHATTAN             598\n",
              "Unspecified BROOKLYN     591\n",
              "01 QUEENS                572\n",
              "0 Unspecified            540\n",
              "12 QUEENS                539\n",
              "12 BROOKLYN              532\n",
              "14 BROOKLYN              532\n",
              "08 BROOKLYN              505\n",
              "dtype: int64"
            ]
          },
          "metadata": {
            "tags": []
          },
          "execution_count": 20
        }
      ]
    },
    {
      "cell_type": "code",
      "metadata": {
        "id": "SHS6pqHdmlbo",
        "colab_type": "code",
        "colab": {}
      },
      "source": [
        ""
      ],
      "execution_count": 0,
      "outputs": []
    }
  ]
}